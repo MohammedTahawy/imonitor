{
  "cells": [
    {
      "cell_type": "code",
      "execution_count": 1,
      "metadata": {
        "colab": {
          "base_uri": "https://localhost:8080/"
        },
        "id": "tHfmUwRqrIWa",
        "outputId": "034c7453-c27b-42b4-db73-70ecca13a484"
      },
      "outputs": [],
      "source": [
        "# pip install opencv-python\n",
        "# pip install face_recognition\n",
        "# pip install dlib\n",
        "# pip install pandas\n",
        "# pip install numpy"
      ]
    },
    {
      "cell_type": "code",
      "execution_count": 2,
      "metadata": {
        "colab": {
          "base_uri": "https://localhost:8080/",
          "height": 383
        },
        "id": "RcwNwq3Or5Mp",
        "outputId": "469426af-859a-4563-d6f7-8f85fcfd120b"
      },
      "outputs": [],
      "source": [
        "import os\n",
        "import face_recognition\n",
        "import pickle\n",
        "import cv2\n",
        "import face_recognition\n",
        "import pickle\n",
        "import datetime\n",
        "import sqlite3\n",
        "import pandas as pd\n",
        "import numpy as np"
      ]
    },
    {
      "cell_type": "code",
      "execution_count": 3,
      "metadata": {
        "colab": {
          "base_uri": "https://localhost:8080/",
          "height": 211
        },
        "id": "1qbSx_1xsKpG",
        "outputId": "c0581791-8b47-4ff2-aed1-1a1a859fa51a"
      },
      "outputs": [],
      "source": [
        "# مسار قاعدة البيانات\n",
        "dataset_dir = './content'\n",
        "encodings_file = 'encodings.pickle'\n",
        "\n",
        "# قوائم لحفظ البيانات\n",
        "known_encodings = []\n",
        "known_names = []\n",
        "\n",
        "# قراءة الصور وتشفيرها\n",
        "for person_name in os.listdir(dataset_dir):\n",
        "    person_dir = os.path.join(dataset_dir, person_name)\n",
        "    if not os.path.isdir(person_dir):\n",
        "        continue\n",
        "    for image_name in os.listdir(person_dir):\n",
        "        image_path = os.path.join(person_dir, image_name)\n",
        "        image = face_recognition.load_image_file(image_path)\n",
        "        try:\n",
        "            encodings = face_recognition.face_encodings(image)[0]\n",
        "        except IndexError:\n",
        "            print(f\"لم يتم العثور على وجه في الصورة {image_path}\")\n",
        "            continue\n",
        "        known_encodings.append(encodings)\n",
        "        known_names.append(person_name)"
      ]
    },
    {
      "cell_type": "code",
      "execution_count": null,
      "metadata": {
        "id": "g6i2_3v-ty0l"
      },
      "outputs": [],
      "source": [
        "# حفظ التشفيرات\n",
        "data = {\"encodings\": known_encodings, \"names\": known_names}\n",
        "with open(encodings_file, \"wb\") as f:\n",
        "    f.write(pickle.dumps(data))\n",
        "\n",
        "print(\"تم إنشاء قاعدة البيانات بنجاح!\")"
      ]
    },
    {
      "cell_type": "code",
      "execution_count": 5,
      "metadata": {
        "id": "zUV5DjuAt19r"
      },
      "outputs": [],
      "source": [
        "# تحميل التشفيرات المعروفة\n",
        "with open('encodings.pickle', 'rb') as f:\n",
        "    data = pickle.load(f)"
      ]
    },
    {
      "cell_type": "code",
      "execution_count": 6,
      "metadata": {
        "id": "PKWmgXSWt7y1"
      },
      "outputs": [],
      "source": [
        "# الوصول إلى الكاميرا\n",
        "video_capture = cv2.VideoCapture(2)"
      ]
    },
    {
      "cell_type": "code",
      "execution_count": 7,
      "metadata": {
        "id": "oxyD-bSbt9-U"
      },
      "outputs": [],
      "source": [
        "# قائمة لتخزين الأسماء المكتشفة\n",
        "recognized_names = []"
      ]
    },
    {
      "cell_type": "code",
      "execution_count": null,
      "metadata": {
        "id": "DjE4BR6quBJ0"
      },
      "outputs": [],
      "source": [
        "while True:\n",
        "    ret, frame = video_capture.read()\n",
        "    if not ret:\n",
        "        break\n",
        "\n",
        "    # تحويل الصورة من BGR إلى RGB\n",
        "    rgb_frame = frame[:, :, ::-1]\n",
        "\n",
        "    # اكتشاف مواقع الوجوه\n",
        "    face_locations = face_recognition.face_locations(rgb_frame)\n",
        "    # تشفير الوجوه\n",
        "    face_encodings = face_recognition.face_encodings(rgb_frame, face_locations)\n",
        "\n",
        "    for (top, right, bottom, left), face_encoding in zip(face_locations, face_encodings):\n",
        "        # مقارنة الوجوه\n",
        "        matches = face_recognition.compare_faces(data[\"encodings\"], face_encoding)\n",
        "        name = \"Unknown\"\n",
        "\n",
        "        # العثور على أقرب تطابق\n",
        "        face_distances = face_recognition.face_distance(data[\"encodings\"], face_encoding)\n",
        "        best_match_index = face_distances.argmin()\n",
        "\n",
        "        if matches[best_match_index]:\n",
        "            name = data[\"names\"][best_match_index]\n",
        "\n",
        "        # رسم مربع حول الوجه\n",
        "        cv2.rectangle(frame, (left, top), (right, bottom), (0, 255, 0), 2)\n",
        "        # كتابة الاسم\n",
        "        cv2.putText(frame, name, (left, top - 10), cv2.FONT_HERSHEY_SIMPLEX, 0.9, (0, 255, 0), 2)\n",
        "\n",
        "        # تسجيل الوقت والاسم إذا لم يتم تسجيله من قبل\n",
        "        if name != \"Unknown\" and name not in recognized_names:\n",
        "            recognized_names.append(name)\n",
        "            time_stamp = datetime.datetime.now().strftime(\"%Y-%m-%d %H:%M:%S\")\n",
        "            print(f\"{name} وصل في {time_stamp}\")\n",
        "            # يمكنك هنا حفظ البيانات في قاعدة بيانات أو ملف\n",
        "\n",
        "    # عرض الفيديو\n",
        "    cv2.imshow('Video', frame)\n",
        "\n",
        "    # الخروج عند الضغط على 'q'\n",
        "    if cv2.waitKey(1) & 0xFF == ord('q'):\n",
        "        cv2.destroyAllWindows()\n",
        "        break\n",
        "\n",
        "# تحرير الموارد\n",
        "video_capture.release()\n",
        "cv2.destroyAllWindows()\n"
      ]
    },
    {
      "cell_type": "code",
      "execution_count": null,
      "metadata": {
        "id": "Xr29E1g2uLlt"
      },
      "outputs": [],
      "source": [
        "# تحميل التشفيرات المعروفة\n",
        "with open('encodings.pickle', 'rb') as f:\n",
        "    data = pickle.load(f)\n",
        "\n",
        "# الوصول إلى الكاميرا\n",
        "video_capture = cv2.VideoCapture(2)\n",
        "\n",
        "# إنشاء القاموس للتتبع\n",
        "trackers = {}\n",
        "tracker_id = 0\n",
        "\n",
        "while True:\n",
        "    ret, frame = video_capture.read()\n",
        "    if not ret:\n",
        "        break\n",
        "\n",
        "    rgb_frame = frame[:, :, ::-1]\n",
        "\n",
        "    # اكتشاف مواقع الوجوه\n",
        "    face_locations = face_recognition.face_locations(rgb_frame)\n",
        "    face_encodings = face_recognition.face_encodings(rgb_frame, face_locations)\n",
        "\n",
        "    for (top, right, bottom, left), face_encoding in zip(face_locations, face_encodings):\n",
        "        matches = face_recognition.compare_faces(data[\"encodings\"], face_encoding)\n",
        "        name = \"Unknown\"\n",
        "\n",
        "        face_distances = face_recognition.face_distance(data[\"encodings\"], face_encoding)\n",
        "        best_match_index = face_distances.argmin()\n",
        "\n",
        "        if matches[best_match_index]:\n",
        "            name = data[\"names\"][best_match_index]\n",
        "\n",
        "        # إنشاء متتبع جديد\n",
        "        tracker = cv2.TrackerCSRT_create()\n",
        "        bbox = (left, top, right - left, bottom - top)\n",
        "        tracker.init(frame, bbox)\n",
        "        trackers[tracker_id] = {'tracker': tracker, 'name': name}\n",
        "        tracker_id += 1\n",
        "\n",
        "    # تحديث وتتبع الجميع\n",
        "    for tid in list(trackers.keys()):\n",
        "        success, bbox = trackers[tid]['tracker'].update(frame)\n",
        "        if success:\n",
        "            x, y, w, h = [int(v) for v in bbox]\n",
        "            cv2.rectangle(frame, (x, y), (x + w, y + h), (255, 0, 0), 2)\n",
        "            cv2.putText(frame, trackers[tid]['name'], (x, y - 10), cv2.FONT_HERSHEY_SIMPLEX, 0.6, (255, 0, 0), 2)\n",
        "        else:\n",
        "            # إذا فشل التتبع، نحذفه\n",
        "            del trackers[tid]\n",
        "\n",
        "    cv2.imshow('Video', frame)\n",
        "\n",
        "    if cv2.waitKey(1) & 0xFF == ord('q'):\n",
        "        break\n",
        "\n",
        "video_capture.release()\n",
        "cv2.destroyAllWindows()\n",
        "\n",
        "\n",
        "import sqlite3\n",
        "\n",
        "# إنشاء الاتصال بقاعدة البيانات\n",
        "conn = sqlite3.connect('employee_data.db')\n",
        "c = conn.cursor()\n",
        "\n",
        "# إنشاء جدول\n",
        "c.execute('''CREATE TABLE IF NOT EXISTS movements\n",
        "             (name TEXT, time TEXT, event TEXT)''')\n",
        "\n",
        "# عند تسجيل حدث\n",
        "def log_event(name, event):\n",
        "    time_stamp = datetime.datetime.now().strftime(\"%Y-%m-%d %H:%M:%S\")\n",
        "    c.execute(\"INSERT INTO movements VALUES (?, ?, ?)\", (name, time_stamp, event))\n",
        "    conn.commit()\n",
        "\n",
        "# مثال على الاستخدام\n",
        "log_event('Ahmed', 'Entered')\n"
      ]
    }
  ],
  "metadata": {
    "accelerator": "GPU",
    "colab": {
      "gpuType": "T4",
      "provenance": []
    },
    "kernelspec": {
      "display_name": "Python 3",
      "name": "python3"
    },
    "language_info": {
      "codemirror_mode": {
        "name": "ipython",
        "version": 3
      },
      "file_extension": ".py",
      "mimetype": "text/x-python",
      "name": "python",
      "nbconvert_exporter": "python",
      "pygments_lexer": "ipython3",
      "version": "3.9.6"
    }
  },
  "nbformat": 4,
  "nbformat_minor": 0
}
